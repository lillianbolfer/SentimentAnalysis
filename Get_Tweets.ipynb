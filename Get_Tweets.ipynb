{
 "cells": [
  {
   "cell_type": "code",
   "execution_count": 11,
   "metadata": {},
   "outputs": [],
   "source": [
    "import tweepy\n",
    "import pandas as pd\n",
    "from textblob import TextBlob\n",
    "from reference import consumer_key, consumer_key_secret, access_token, access_token_secret\n"
   ]
  },
  {
   "cell_type": "code",
   "execution_count": 13,
   "metadata": {},
   "outputs": [],
   "source": [
    "auth = tweepy.OAuthHandler(consumer_key, consumer_key_secret)\n",
    "auth.set_access_token(access_token, access_token_secret)\n",
    "api = tweepy.API(auth, wait_on_rate_limit=True)"
   ]
  },
  {
   "cell_type": "code",
   "execution_count": 42,
   "metadata": {},
   "outputs": [],
   "source": [
    "search_words = \"gillette OR @Gillette OR to:Gillette -filter:retweets -from:Gillette -#sponsored\"\n",
    "date_since = \"2018-06-16\""
   ]
  },
  {
   "cell_type": "code",
   "execution_count": 43,
   "metadata": {},
   "outputs": [
    {
     "data": {
      "text/plain": [
       "['Celbrity de AUSTYN GILLETTE\\nhttps://t.co/pwvUnlBIjB',\n",
       " '@ComplexMusic Fresh off the jet, Sharper than Gillette.',\n",
       " '@A_kamara6 @markingram21 @uninterrupted @Gillette Man what are you saving?   It looks you just made a beard out of… https://t.co/xRnUFXqL9Y',\n",
       " '@endorfinrush18 @dr_nono60 Just saw them at Gillette with my son on Saturday night, Ed. Great show!  #4 for my boy,… https://t.co/NIxK8pOpWT',\n",
       " \"Brett Young reflects on his family's Patriots ties before playing at Gillette Stadium this weekend https://t.co/dYBRTlEBx9\"]"
      ]
     },
     "execution_count": 43,
     "metadata": {},
     "output_type": "execute_result"
    }
   ],
   "source": [
    "results = [] \n",
    "\n",
    "for tweet in tweepy.Cursor(api.search,\n",
    "              q=search_words,\n",
    "              lang=\"en\",\n",
    "              since=date_since).items(5):\n",
    "    results.append(tweet.text)\n",
    "    \n",
    "results"
   ]
  },
  {
   "cell_type": "code",
   "execution_count": 47,
   "metadata": {},
   "outputs": [
    {
     "name": "stdout",
     "output_type": "stream",
     "text": [
      "Celbrity de AUSTYN GILLETTE\n",
      "https://t.co/pwvUnlBIjB\n",
      "@ComplexMusic Fresh off the jet, Sharper than Gillette.\n",
      "@A_kamara6 @markingram21 @uninterrupted @Gillette Man what are you saving?   It looks you just made a beard out of… https://t.co/xRnUFXqL9Y\n",
      "@endorfinrush18 @dr_nono60 Just saw them at Gillette with my son on Saturday night, Ed. Great show!  #4 for my boy,… https://t.co/NIxK8pOpWT\n",
      "Brett Young reflects on his family's Patriots ties before playing at Gillette Stadium this weekend https://t.co/dYBRTlEBx9\n"
     ]
    },
    {
     "data": {
      "text/html": [
       "<div>\n",
       "<style scoped>\n",
       "    .dataframe tbody tr th:only-of-type {\n",
       "        vertical-align: middle;\n",
       "    }\n",
       "\n",
       "    .dataframe tbody tr th {\n",
       "        vertical-align: top;\n",
       "    }\n",
       "\n",
       "    .dataframe thead th {\n",
       "        text-align: right;\n",
       "    }\n",
       "</style>\n",
       "<table border=\"1\" class=\"dataframe\">\n",
       "  <thead>\n",
       "    <tr style=\"text-align: right;\">\n",
       "      <th></th>\n",
       "      <th>Score</th>\n",
       "      <th>Text</th>\n",
       "    </tr>\n",
       "  </thead>\n",
       "  <tbody>\n",
       "    <tr>\n",
       "      <th>0</th>\n",
       "      <td>0.0</td>\n",
       "      <td>Celbrity de AUSTYN GILLETTE\\nhttps://t.co/pwvU...</td>\n",
       "    </tr>\n",
       "    <tr>\n",
       "      <th>1</th>\n",
       "      <td>1.0</td>\n",
       "      <td>@ComplexMusic Fresh off the jet, Sharper than ...</td>\n",
       "    </tr>\n",
       "    <tr>\n",
       "      <th>2</th>\n",
       "      <td>0.0</td>\n",
       "      <td>@A_kamara6 @markingram21 @uninterrupted @Gille...</td>\n",
       "    </tr>\n",
       "    <tr>\n",
       "      <th>3</th>\n",
       "      <td>1.0</td>\n",
       "      <td>@endorfinrush18 @dr_nono60 Just saw them at Gi...</td>\n",
       "    </tr>\n",
       "    <tr>\n",
       "      <th>4</th>\n",
       "      <td>1.0</td>\n",
       "      <td>Brett Young reflects on his family's Patriots ...</td>\n",
       "    </tr>\n",
       "  </tbody>\n",
       "</table>\n",
       "</div>"
      ],
      "text/plain": [
       "   Score                                               Text\n",
       "0    0.0  Celbrity de AUSTYN GILLETTE\\nhttps://t.co/pwvU...\n",
       "1    1.0  @ComplexMusic Fresh off the jet, Sharper than ...\n",
       "2    0.0  @A_kamara6 @markingram21 @uninterrupted @Gille...\n",
       "3    1.0  @endorfinrush18 @dr_nono60 Just saw them at Gi...\n",
       "4    1.0  Brett Young reflects on his family's Patriots ..."
      ]
     },
     "execution_count": 47,
     "metadata": {},
     "output_type": "execute_result"
    }
   ],
   "source": [
    "all_tweet_data = pd.DataFrame()\n",
    "\n",
    "for tweet in results:\n",
    "    print(tweet)\n",
    "    analysis = TextBlob(tweet)\n",
    "    if analysis.sentiment[0]>0:\n",
    "       score = 1\n",
    "    elif analysis.sentiment[0]<0:\n",
    "       score = -1\n",
    "    else:\n",
    "       score = 0\n",
    "    all_tweet_data = all_tweet_data.append({'Text': tweet, 'Score': score}, ignore_index=True)\n",
    "    \n",
    "all_tweet_data"
   ]
  },
  {
   "cell_type": "code",
   "execution_count": null,
   "metadata": {},
   "outputs": [],
   "source": [
    "#remaining steps, switch to larger amounts of data\n",
    "#sort for train and test\n",
    "#export to seperate .cs files"
   ]
  }
 ],
 "metadata": {
  "kernelspec": {
   "display_name": "Python 3",
   "language": "python",
   "name": "python3"
  },
  "language_info": {
   "codemirror_mode": {
    "name": "ipython",
    "version": 3
   },
   "file_extension": ".py",
   "mimetype": "text/x-python",
   "name": "python",
   "nbconvert_exporter": "python",
   "pygments_lexer": "ipython3",
   "version": "3.7.1"
  }
 },
 "nbformat": 4,
 "nbformat_minor": 2
}
