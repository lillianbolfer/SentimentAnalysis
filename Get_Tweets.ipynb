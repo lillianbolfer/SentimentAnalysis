{
 "cells": [
  {
   "cell_type": "code",
   "execution_count": 2,
   "metadata": {},
   "outputs": [],
   "source": [
    "import tweepy\n",
    "import pandas as pd\n",
    "from textblob import TextBlob\n",
    "from reference import consumer_key, consumer_key_secret, access_token, access_token_secret"
   ]
  },
  {
   "cell_type": "code",
   "execution_count": 4,
   "metadata": {},
   "outputs": [],
   "source": [
    "auth = tweepy.OAuthHandler(consumer_key, consumer_key_secret)\n",
    "auth.set_access_token(access_token, access_token_secret)\n",
    "api = tweepy.API(auth, wait_on_rate_limit=True)"
   ]
  },
  {
   "cell_type": "code",
   "execution_count": 5,
   "metadata": {},
   "outputs": [],
   "source": [
    "search_words = \"gillette OR @Gillette OR to:Gillette -stadium -filter:retweets -from:Gillette -#sponsored\"\n",
    "date_since = \"2018-06-16\""
   ]
  },
  {
   "cell_type": "code",
   "execution_count": 6,
   "metadata": {},
   "outputs": [
    {
     "data": {
      "text/plain": [
       "['If I see this Gillette commercial with the Middlesex firefighter again, I’m going to lose it. #ComeOn #RedSox #WhiteSox 🧦',\n",
       " 'Free Gillette SkinGuard Razors For Those In The\\xa0Military https://t.co/dZxNNwy9Eo https://t.co/jCnu9cSoVV',\n",
       " '@monaeltahawy @jessphoenix2018 I came here to see all the same guys crying about the Gillette ad also cry about this',\n",
       " '@russ_gillette @LKHamilton I have one graphic novel and most of her books. I used to have almost the whole collecti… https://t.co/XE0RKkKh7m',\n",
       " '@LastrangeLilith @LKHamilton I have all the Anita books except \"Jason\" and I have a few of the comic books']"
      ]
     },
     "execution_count": 6,
     "metadata": {},
     "output_type": "execute_result"
    }
   ],
   "source": [
    "results = [] \n",
    "\n",
    "for tweet in tweepy.Cursor(api.search,\n",
    "              q=search_words,\n",
    "              lang=\"en\",\n",
    "              since=date_since).items(5):\n",
    "    results.append(tweet.text)\n",
    "    \n",
    "results"
   ]
  },
  {
   "cell_type": "code",
   "execution_count": 7,
   "metadata": {},
   "outputs": [
    {
     "data": {
      "text/html": [
       "<div>\n",
       "<style scoped>\n",
       "    .dataframe tbody tr th:only-of-type {\n",
       "        vertical-align: middle;\n",
       "    }\n",
       "\n",
       "    .dataframe tbody tr th {\n",
       "        vertical-align: top;\n",
       "    }\n",
       "\n",
       "    .dataframe thead th {\n",
       "        text-align: right;\n",
       "    }\n",
       "</style>\n",
       "<table border=\"1\" class=\"dataframe\">\n",
       "  <thead>\n",
       "    <tr style=\"text-align: right;\">\n",
       "      <th></th>\n",
       "      <th>Score</th>\n",
       "      <th>Text</th>\n",
       "    </tr>\n",
       "  </thead>\n",
       "  <tbody>\n",
       "    <tr>\n",
       "      <th>0</th>\n",
       "      <td>0.0</td>\n",
       "      <td>If I see this Gillette commercial with the Mid...</td>\n",
       "    </tr>\n",
       "    <tr>\n",
       "      <th>1</th>\n",
       "      <td>1.0</td>\n",
       "      <td>Free Gillette SkinGuard Razors For Those In Th...</td>\n",
       "    </tr>\n",
       "    <tr>\n",
       "      <th>2</th>\n",
       "      <td>-1.0</td>\n",
       "      <td>@monaeltahawy @jessphoenix2018 I came here to ...</td>\n",
       "    </tr>\n",
       "    <tr>\n",
       "      <th>3</th>\n",
       "      <td>1.0</td>\n",
       "      <td>@russ_gillette @LKHamilton I have one graphic ...</td>\n",
       "    </tr>\n",
       "    <tr>\n",
       "      <th>4</th>\n",
       "      <td>1.0</td>\n",
       "      <td>@LastrangeLilith @LKHamilton I have all the An...</td>\n",
       "    </tr>\n",
       "  </tbody>\n",
       "</table>\n",
       "</div>"
      ],
      "text/plain": [
       "   Score                                               Text\n",
       "0    0.0  If I see this Gillette commercial with the Mid...\n",
       "1    1.0  Free Gillette SkinGuard Razors For Those In Th...\n",
       "2   -1.0  @monaeltahawy @jessphoenix2018 I came here to ...\n",
       "3    1.0  @russ_gillette @LKHamilton I have one graphic ...\n",
       "4    1.0  @LastrangeLilith @LKHamilton I have all the An..."
      ]
     },
     "execution_count": 7,
     "metadata": {},
     "output_type": "execute_result"
    }
   ],
   "source": [
    "all_tweet_data = pd.DataFrame()\n",
    "\n",
    "for tweet in results:\n",
    "    analysis = TextBlob(tweet)\n",
    "    if analysis.sentiment[0]>0:\n",
    "       score = 1\n",
    "    elif analysis.sentiment[0]<0:\n",
    "       score = -1\n",
    "    else:\n",
    "       score = 0\n",
    "    all_tweet_data = all_tweet_data.append({'Text': tweet, 'Score': score}, ignore_index=True)\n",
    "    \n",
    "all_tweet_data"
   ]
  },
  {
   "cell_type": "code",
   "execution_count": 8,
   "metadata": {},
   "outputs": [],
   "source": [
    "#remaining steps, switch to larger amounts of data\n",
    "#sort for train and test\n",
    "#export to seperate .csv files\n",
    "\n",
    "test_data = pd.DataFrame()\n",
    "train_data = pd.DataFrame()\n",
    "\n",
    "counter = 1;\n",
    "\n",
    "for index, i in all_tweet_data.iterrows():\n",
    "    if counter % 2 == 0:\n",
    "        train_data = train_data.append({'Text': i[1], 'Score': i[0]}, ignore_index=True)\n",
    "    else:\n",
    "        test_data = test_data.append({'Text': i[1], 'Score': i[0]}, ignore_index=True)\n",
    "    counter += 1"
   ]
  },
  {
   "cell_type": "code",
   "execution_count": 10,
   "metadata": {},
   "outputs": [],
   "source": [
    "#Training Data\n",
    "train_data\n",
    "\n",
    "train_data.to_csv(\"Data/train_data.csv\")"
   ]
  },
  {
   "cell_type": "code",
   "execution_count": 11,
   "metadata": {},
   "outputs": [],
   "source": [
    "#Testing Data\n",
    "test_data\n",
    "test_data.to_csv(\"Data/test_data.csv\")"
   ]
  },
  {
   "cell_type": "code",
   "execution_count": null,
   "metadata": {},
   "outputs": [],
   "source": []
  }
 ],
 "metadata": {
  "kernelspec": {
   "display_name": "Python 3",
   "language": "python",
   "name": "python3"
  },
  "language_info": {
   "codemirror_mode": {
    "name": "ipython",
    "version": 3
   },
   "file_extension": ".py",
   "mimetype": "text/x-python",
   "name": "python",
   "nbconvert_exporter": "python",
   "pygments_lexer": "ipython3",
   "version": "3.7.1"
  }
 },
 "nbformat": 4,
 "nbformat_minor": 2
}
