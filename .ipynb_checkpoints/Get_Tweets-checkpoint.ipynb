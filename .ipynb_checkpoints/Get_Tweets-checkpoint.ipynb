{
 "cells": [
  {
   "cell_type": "code",
   "execution_count": 1,
   "metadata": {},
   "outputs": [],
   "source": [
    "import tweepy\n",
    "import pandas as pd\n",
    "from textblob import TextBlob\n",
    "from reference import consumer_key, consumer_key_secret, access_token, access_token_secret\n"
   ]
  },
  {
   "cell_type": "code",
   "execution_count": 7,
   "metadata": {},
   "outputs": [],
   "source": [
    "auth = tweepy.OAuthHandler(consumer_key, consumer_key_secret)\n",
    "auth.set_access_token(access_token, access_token_secret)\n",
    "api = tweepy.API(auth, wait_on_rate_limit=True)"
   ]
  },
  {
   "cell_type": "code",
   "execution_count": 8,
   "metadata": {},
   "outputs": [],
   "source": [
    "search_words = \"gillette OR @Gillette OR to:Gillette -stadium -filter:retweets -from:Gillette -#sponsored\"\n",
    "date_since = \"2018-06-16\""
   ]
  },
  {
   "cell_type": "code",
   "execution_count": 9,
   "metadata": {},
   "outputs": [
    {
     "data": {
      "text/plain": [
       "['@michaelhsweet As you can see I’m card carrying bald guy who uses Gillette for scalp care. I would give anything fo… https://t.co/svqJfnjtwh',\n",
       " '@bmoreconnected LOL I mean in fairness, you didn’t. I’m just very used to everyone on the internet being a dirtbag.… https://t.co/0GokQxbROg',\n",
       " 'If you’re in Gillette for this and want to grab a drink lmk https://t.co/eF3wd41UQR',\n",
       " '@JR_Gillette @goodinohio And after the Japanese had already been defeated, and after the Soviets had entered the wa… https://t.co/pnwdethuf2',\n",
       " 'Look forward to seeing everyone in Gillette tomorrow for the @EnergyExpositi2 https://t.co/v0UYQOQQVr']"
      ]
     },
     "execution_count": 9,
     "metadata": {},
     "output_type": "execute_result"
    }
   ],
   "source": [
    "results = [] \n",
    "\n",
    "for tweet in tweepy.Cursor(api.search,\n",
    "              q=search_words,\n",
    "              lang=\"en\",\n",
    "              since=date_since).items(5):\n",
    "    results.append(tweet.text)\n",
    "    \n",
    "results"
   ]
  },
  {
   "cell_type": "code",
   "execution_count": 10,
   "metadata": {},
   "outputs": [
    {
     "data": {
      "text/html": [
       "<div>\n",
       "<style scoped>\n",
       "    .dataframe tbody tr th:only-of-type {\n",
       "        vertical-align: middle;\n",
       "    }\n",
       "\n",
       "    .dataframe tbody tr th {\n",
       "        vertical-align: top;\n",
       "    }\n",
       "\n",
       "    .dataframe thead th {\n",
       "        text-align: right;\n",
       "    }\n",
       "</style>\n",
       "<table border=\"1\" class=\"dataframe\">\n",
       "  <thead>\n",
       "    <tr style=\"text-align: right;\">\n",
       "      <th></th>\n",
       "      <th>Score</th>\n",
       "      <th>Text</th>\n",
       "    </tr>\n",
       "  </thead>\n",
       "  <tbody>\n",
       "    <tr>\n",
       "      <th>0</th>\n",
       "      <td>0.0</td>\n",
       "      <td>@michaelhsweet As you can see I’m card carryin...</td>\n",
       "    </tr>\n",
       "    <tr>\n",
       "      <th>1</th>\n",
       "      <td>1.0</td>\n",
       "      <td>@bmoreconnected LOL I mean in fairness, you di...</td>\n",
       "    </tr>\n",
       "    <tr>\n",
       "      <th>2</th>\n",
       "      <td>0.0</td>\n",
       "      <td>If you’re in Gillette for this and want to gra...</td>\n",
       "    </tr>\n",
       "    <tr>\n",
       "      <th>3</th>\n",
       "      <td>0.0</td>\n",
       "      <td>@JR_Gillette @goodinohio And after the Japanes...</td>\n",
       "    </tr>\n",
       "    <tr>\n",
       "      <th>4</th>\n",
       "      <td>0.0</td>\n",
       "      <td>Look forward to seeing everyone in Gillette to...</td>\n",
       "    </tr>\n",
       "  </tbody>\n",
       "</table>\n",
       "</div>"
      ],
      "text/plain": [
       "   Score                                               Text\n",
       "0    0.0  @michaelhsweet As you can see I’m card carryin...\n",
       "1    1.0  @bmoreconnected LOL I mean in fairness, you di...\n",
       "2    0.0  If you’re in Gillette for this and want to gra...\n",
       "3    0.0  @JR_Gillette @goodinohio And after the Japanes...\n",
       "4    0.0  Look forward to seeing everyone in Gillette to..."
      ]
     },
     "execution_count": 10,
     "metadata": {},
     "output_type": "execute_result"
    }
   ],
   "source": [
    "all_tweet_data = pd.DataFrame()\n",
    "\n",
    "for tweet in results:\n",
    "    analysis = TextBlob(tweet)\n",
    "    if analysis.sentiment[0]>0:\n",
    "       score = 1\n",
    "    elif analysis.sentiment[0]<0:\n",
    "       score = -1\n",
    "    else:\n",
    "       score = 0\n",
    "    all_tweet_data = all_tweet_data.append({'Text': tweet, 'Score': score}, ignore_index=True)\n",
    "    \n",
    "all_tweet_data"
   ]
  },
  {
   "cell_type": "code",
   "execution_count": 28,
   "metadata": {},
   "outputs": [],
   "source": [
    "#remaining steps, switch to larger amounts of data\n",
    "#sort for train and test\n",
    "#export to seperate .csv files\n",
    "\n",
    "test_data = pd.DataFrame()\n",
    "train_data = pd.DataFrame()\n",
    "\n",
    "counter = 1;\n",
    "\n",
    "for index, i in all_tweet_data.iterrows():\n",
    "    if counter % 2 == 0:\n",
    "        train_data = train_data.append({'Text': i[1], 'Score': i[0]}, ignore_index=True)\n",
    "    else:\n",
    "        test_data = test_data.append({'Text': i[1], 'Score': i[0]}, ignore_index=True)\n",
    "    counter += 1"
   ]
  },
  {
   "cell_type": "code",
   "execution_count": 29,
   "metadata": {},
   "outputs": [
    {
     "data": {
      "text/html": [
       "<div>\n",
       "<style scoped>\n",
       "    .dataframe tbody tr th:only-of-type {\n",
       "        vertical-align: middle;\n",
       "    }\n",
       "\n",
       "    .dataframe tbody tr th {\n",
       "        vertical-align: top;\n",
       "    }\n",
       "\n",
       "    .dataframe thead th {\n",
       "        text-align: right;\n",
       "    }\n",
       "</style>\n",
       "<table border=\"1\" class=\"dataframe\">\n",
       "  <thead>\n",
       "    <tr style=\"text-align: right;\">\n",
       "      <th></th>\n",
       "      <th>Score</th>\n",
       "      <th>Text</th>\n",
       "    </tr>\n",
       "  </thead>\n",
       "  <tbody>\n",
       "    <tr>\n",
       "      <th>0</th>\n",
       "      <td>1.0</td>\n",
       "      <td>@bmoreconnected LOL I mean in fairness, you di...</td>\n",
       "    </tr>\n",
       "    <tr>\n",
       "      <th>1</th>\n",
       "      <td>0.0</td>\n",
       "      <td>@JR_Gillette @goodinohio And after the Japanes...</td>\n",
       "    </tr>\n",
       "  </tbody>\n",
       "</table>\n",
       "</div>"
      ],
      "text/plain": [
       "   Score                                               Text\n",
       "0    1.0  @bmoreconnected LOL I mean in fairness, you di...\n",
       "1    0.0  @JR_Gillette @goodinohio And after the Japanes..."
      ]
     },
     "execution_count": 29,
     "metadata": {},
     "output_type": "execute_result"
    }
   ],
   "source": [
    "#Training Data\n",
    "train_data"
   ]
  },
  {
   "cell_type": "code",
   "execution_count": 30,
   "metadata": {},
   "outputs": [
    {
     "data": {
      "text/html": [
       "<div>\n",
       "<style scoped>\n",
       "    .dataframe tbody tr th:only-of-type {\n",
       "        vertical-align: middle;\n",
       "    }\n",
       "\n",
       "    .dataframe tbody tr th {\n",
       "        vertical-align: top;\n",
       "    }\n",
       "\n",
       "    .dataframe thead th {\n",
       "        text-align: right;\n",
       "    }\n",
       "</style>\n",
       "<table border=\"1\" class=\"dataframe\">\n",
       "  <thead>\n",
       "    <tr style=\"text-align: right;\">\n",
       "      <th></th>\n",
       "      <th>Score</th>\n",
       "      <th>Text</th>\n",
       "    </tr>\n",
       "  </thead>\n",
       "  <tbody>\n",
       "    <tr>\n",
       "      <th>0</th>\n",
       "      <td>0.0</td>\n",
       "      <td>@michaelhsweet As you can see I’m card carryin...</td>\n",
       "    </tr>\n",
       "    <tr>\n",
       "      <th>1</th>\n",
       "      <td>0.0</td>\n",
       "      <td>If you’re in Gillette for this and want to gra...</td>\n",
       "    </tr>\n",
       "    <tr>\n",
       "      <th>2</th>\n",
       "      <td>0.0</td>\n",
       "      <td>Look forward to seeing everyone in Gillette to...</td>\n",
       "    </tr>\n",
       "  </tbody>\n",
       "</table>\n",
       "</div>"
      ],
      "text/plain": [
       "   Score                                               Text\n",
       "0    0.0  @michaelhsweet As you can see I’m card carryin...\n",
       "1    0.0  If you’re in Gillette for this and want to gra...\n",
       "2    0.0  Look forward to seeing everyone in Gillette to..."
      ]
     },
     "execution_count": 30,
     "metadata": {},
     "output_type": "execute_result"
    }
   ],
   "source": [
    "#Testing Data\n",
    "test_data"
   ]
  },
  {
   "cell_type": "code",
   "execution_count": null,
   "metadata": {},
   "outputs": [],
   "source": []
  }
 ],
 "metadata": {
  "kernelspec": {
   "display_name": "Python 3",
   "language": "python",
   "name": "python3"
  },
  "language_info": {
   "codemirror_mode": {
    "name": "ipython",
    "version": 3
   },
   "file_extension": ".py",
   "mimetype": "text/x-python",
   "name": "python",
   "nbconvert_exporter": "python",
   "pygments_lexer": "ipython3",
   "version": "3.7.1"
  }
 },
 "nbformat": 4,
 "nbformat_minor": 2
}
